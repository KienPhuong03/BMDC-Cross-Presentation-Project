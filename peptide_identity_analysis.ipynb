{
 "cells": [
  {
   "cell_type": "markdown",
   "metadata": {},
   "source": [
    "What happens in this file?\n",
    "1. Identify Shared Peptides Between DC and BMDM:\n",
    "Task 1.1: Extract a complete list of shared peptides between DC (Dendritic Cells) and BMDM (Bone Marrow-Derived Macrophages).\n",
    "Task 1.2: Categorize these peptides according to the proteins they originate from.\n",
    "Task 1.3: For each protein, identify the associated biological processes.\n",
    "Task 1.4: Research online to find if these proteins have defined roles in GBM (Glioblastoma) and cancer biology. Document the findings.\n",
    "2. Conserved Cross-Presented Peptides Analysis:\n",
    "Task 2.1: Identify peptides that are consistently cross-presented across multiple experimental runs.\n",
    "Task 2.2: Create a list of these conserved cross-presented peptides, noting their frequencies and any variations across runs.\n",
    "3. Cross-Presented Peptides in Untreated Samples:\n",
    "Task 3.1: Compare the cross-presented peptides from treated samples to those identified in untreated samples.\n",
    "Task 3.2: Identify any peptides from the untreated samples that are also present in the cross-presented list.\n",
    "Task 3.3: Document the differences and overlaps between treated and untreated samples to evaluate baseline cross-presentation.\n"
   ]
  },
  {
   "cell_type": "code",
   "execution_count": null,
   "metadata": {},
   "outputs": [],
   "source": [
    "# All imports are localized to this file to make it easier to manage dependencies\n",
    "import os\n",
    "import sys\n",
    "import json\n",
    "import re\n",
    "import math\n",
    "import random\n",
    "import numpy as np\n",
    "import pandas as pd\n",
    "import matplotlib.pyplot as plt\n",
    "import argparse\n",
    "import seaborn as sns"
   ]
  },
  {
   "cell_type": "code",
   "execution_count": null,
   "metadata": {},
   "outputs": [],
   "source": [
    "# Handling of filtered PSM files, which is of type csv.\n",
    "def read_data(file_path):\n",
    "    \"\"\"\n",
    "    Reads the data file and returns a pandas dataframe\n",
    "    \"\"\"\n",
    "    if not os.path.exists(file_path):\n",
    "        raise FileNotFoundError(f\"File {file_path} does not exist\")\n",
    "    return pd.read_csv(file_path)"
   ]
  }
 ],
 "metadata": {
  "kernelspec": {
   "display_name": "Python 3",
   "language": "python",
   "name": "python3"
  },
  "language_info": {
   "name": "python",
   "version": "3.12.5"
  }
 },
 "nbformat": 4,
 "nbformat_minor": 2
}
